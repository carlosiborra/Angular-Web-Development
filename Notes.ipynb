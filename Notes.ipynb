{
 "cells": [
  {
   "cell_type": "markdown",
   "metadata": {},
   "source": [
    "# **Table of Contents**\n",
    "* [Typescript Introduction](#Typescript-Introduction) \n",
    "* [Angular CLI](#Angular-CLI)\n",
    "  - [CLI Installation](#CLI-Installation)\n",
    "  - [Project Creation](#Project-Creation)\n",
    "  - [Start Server](#Start-Server)\n",
    "<br><br><br>"
   ]
  },
  {
   "cell_type": "markdown",
   "metadata": {},
   "source": [
    "# **TypeScript Introduction**\n",
    "![](https://img.shields.io/badge/TypeScript-informational?style=flat&logo=TypeScript&logoColor=white&color=blue)\n",
    "\n",
    "Offers a set of tools to get a bunch new functionalities (i.e. typing) over JavaScript.\n",
    "\n",
    "## TS Installation\n",
    "> <code>npm install -g typescript</code>\n",
    "\n",
    "## Compiling file (from TS to JS)\n",
    "> <code>tsc <i>test.ts</i></code><br>\n",
    "\n",
    "This creates a <i>test.js</i> file\n",
    "\n",
    "## Executing the created JS file\n",
    "> <code>node <i>test.js</i></code>\n",
    "\n",
    "## In process: summary from functions.ts, interfaces.ts, typed.ts\n",
    "\n",
    "\n",
    "<br><br><br>"
   ]
  },
  {
   "cell_type": "markdown",
   "metadata": {},
   "source": [
    "# **Angular CLI**     \n",
    "![](https://img.shields.io/badge/Angular-informational?style=flat&logo=Angular&logoColor=white&color=red)\n",
    "## CLI Installation\n",
    "\n",
    "> <code>npm install -g @angular/cli</code><br>\n",
    "\n",
    "In order to check if installation was successful:\n",
    "> <code>ng --version</code><br>\n",
    "\n",
    "## Project Creation\n",
    "\n",
    "> <code>ng new projectName</code><br>\n",
    "\n",
    "This command generates the structure for a project from an Angular module.\n",
    "Creates the necessary files to start creating the application from them.\n",
    "\n",
    "## Start Server (local)\n",
    "\n",
    "> <code>ng serve</code><br>\n",
    "\n",
    "Creates a local server in our computer, located at the url: http://localhost:4200\n",
    "\n",
    "## Angular Architecture\n",
    "![Angular Architecture](.data\\angular_architecture.png)\n",
    "\n",
    "<br><br><br>"
   ]
  }
 ],
 "metadata": {
  "kernelspec": {
   "display_name": "Python 3.8.10 64-bit",
   "language": "python",
   "name": "python3"
  },
  "language_info": {
   "name": "python",
   "version": "3.8.10"
  },
  "orig_nbformat": 4,
  "vscode": {
   "interpreter": {
    "hash": "b4c01c8f52586033bb4bb2bf4f864991e275e728809d596b5bf2a750c26b84f7"
   }
  }
 },
 "nbformat": 4,
 "nbformat_minor": 2
}
