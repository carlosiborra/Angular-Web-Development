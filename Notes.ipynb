{
 "cells": [
  {
   "cell_type": "markdown",
   "metadata": {},
   "source": [
    "# **Table of Contents**\n",
    "* [Typescript Introduction](#Typescript-Introduction) \n",
    "* [Angular CLI](#Angular-CLI)\n",
    "  - [CLI Installation](#CLI-Installation)\n",
    "  - [Project Creation](#Project-Creation)\n",
    "  - [Start Server](#Start-Server)\n",
    "<br><br><br>"
   ]
  },
  {
   "cell_type": "markdown",
   "metadata": {},
   "source": [
    "# **Typescript Introduction**\n",
    "\n",
    "example"
   ]
  },
  {
   "cell_type": "markdown",
   "metadata": {},
   "source": [
    "# **Angular CLI**\n",
    "\n",
    "## CLI Installation\n",
    "\n",
    "> <code>npm install -g @angular/cli</code><br>\n",
    "\n",
    "In order to check if installation was successful:\n",
    "\n",
    "> <code>ng --version</code><br>\n",
    "\n",
    "## Project Creation\n",
    "\n",
    "> <code>ng new projectName</code><br>\n",
    "\n",
    "This command generates the structure for a project from an Angular module.\n",
    "Creates the necessary files to start creating the application from them.\n",
    "\n",
    "## Start Server (local)\n",
    "\n",
    "> <code>ng serve</code><br>\n",
    "\n",
    "Creates a local server in our computer, located at the url: http://localhost:4200\n"
   ]
  }
 ],
 "metadata": {
  "language_info": {
   "name": "python"
  },
  "orig_nbformat": 4
 },
 "nbformat": 4,
 "nbformat_minor": 2
}
